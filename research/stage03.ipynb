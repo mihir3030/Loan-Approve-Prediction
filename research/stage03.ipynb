{
 "cells": [
  {
   "cell_type": "code",
   "execution_count": 2,
   "metadata": {},
   "outputs": [],
   "source": [
    "import os\n",
    "os.chdir(\"../\")"
   ]
  },
  {
   "cell_type": "code",
   "execution_count": 3,
   "metadata": {},
   "outputs": [],
   "source": [
    "from LoanApproval import CONFIG_FILE_PATH, PARAMS_FILE_PATH\n",
    "from LoanApproval.utils import read_yam_file, create_directories"
   ]
  },
  {
   "cell_type": "code",
   "execution_count": 4,
   "metadata": {},
   "outputs": [],
   "source": [
    "from pathlib import Path"
   ]
  },
  {
   "cell_type": "code",
   "execution_count": 14,
   "metadata": {},
   "outputs": [],
   "source": [
    "class TrainingConfigurationManager:\n",
    "    def __init__(self,config_file_path = CONFIG_FILE_PATH):\n",
    "        self.config = read_yam_file(config_file_path)\n",
    "        self.dataset_load = os.path.join(self.config['data_preprocessing']['root_dir'], self.config['data_preprocessing']['local_file'])\n",
    "        create_directories([self.config['artifacts_root']])\n",
    "\n",
    "    def get_training_config(self):\n",
    "        config = self.config['training']\n",
    "        create_directories([config['root_dir']])\n",
    "\n",
    "        training_config = {'root_dir':Path(config['root_dir']), 'dataset_load': Path(self.dataset_load),\n",
    "                           'local_model_file': Path(config['local_model_file']), 'test_data': Path(config['test_data']),\n",
    "                           'score_save': Path(config['score_save'])}\n",
    "\n",
    "        return training_config"
   ]
  },
  {
   "cell_type": "code",
   "execution_count": 15,
   "metadata": {},
   "outputs": [],
   "source": [
    "import pandas as pd\n",
    "import numpy as np\n",
    "from sklearn.model_selection import train_test_split\n",
    "from sklearn.linear_model import LogisticRegression\n",
    "import joblib\n",
    "from sklearn.metrics import accuracy_score, f1_score\n",
    "from src.LoanApproval.utils import save_reports"
   ]
  },
  {
   "cell_type": "code",
   "execution_count": 7,
   "metadata": {},
   "outputs": [],
   "source": [
    "import mlflow"
   ]
  },
  {
   "cell_type": "code",
   "execution_count": 18,
   "metadata": {},
   "outputs": [],
   "source": [
    "class Training:\n",
    "    def __init__(self, config):\n",
    "        self.config = config\n",
    "\n",
    "    def splitting_data(self):\n",
    "        data_path = self.config['dataset_load']\n",
    "        df = pd.read_csv(data_path)\n",
    "        self.train, self.test = train_test_split(df, test_size=0.2, random_state=33)\n",
    "        root_dir = self.config['root_dir']\n",
    "        test_data = self.config['test_data']\n",
    "        test_data_save_file = os.path.join(root_dir, test_data)\n",
    "\n",
    "        self.test.to_csv(test_data_save_file, index=False)    \n",
    "    \n",
    "   \n",
    "    def training(self):\n",
    "        x = self.train.drop('Loan_Status', axis=1)\n",
    "        y = self.train['Loan_Status']\n",
    "\n",
    "        self.lr_model = LogisticRegression()\n",
    "        self.lr_model.fit(x, y)\n",
    "\n",
    "        # saving model\n",
    "        root_dir = self.config['root_dir']\n",
    "        local_model_file = self.config['local_model_file']\n",
    "        local_model_save_path = os.path.join(root_dir, local_model_file)\n",
    "        joblib.dump(self.lr_model, local_model_save_path)\n",
    "        \n",
    "     #Function to evaluate the models and output the accuracy score of the model\n",
    "    def evaluate(self):\n",
    "        x_test = self.test.drop(\"Loan_Status\", axis=1)\n",
    "        y_test = self.test['Loan_Status']\n",
    "\n",
    "        y_pred = self.lr_model.predict(x_test)\n",
    "        test_accuracy_score = accuracy_score(y_test, y_pred)\n",
    "        f1_test_score = f1_score(y_test, y_pred)\n",
    "        \n",
    "        scores = {\n",
    "            'test_accuracy': test_accuracy_score,\n",
    "            'f1_score': f1_test_score\n",
    "        }\n",
    "        raw_path = self.config['root_dir']\n",
    "        score_save_file = self.config['score_save']\n",
    "\n",
    "        score_save_path = os.path.join(raw_path, score_save_file)\n",
    "\n",
    "        save_reports(scores, score_save_path)"
   ]
  },
  {
   "cell_type": "code",
   "execution_count": 19,
   "metadata": {},
   "outputs": [
    {
     "name": "stdout",
     "output_type": "stream",
     "text": [
      "[2023-03-29 17:47:21,094: INFO: utils]: yaml file configs\\config.yaml load  successfully\n",
      "[2023-03-29 17:47:21,097: INFO: utils]: created directory at artifacts\n",
      "[2023-03-29 17:47:21,099: INFO: utils]: created directory at artifacts/training\n",
      "[2023-03-29 17:47:21,163: INFO: utils]: reports are saved\n"
     ]
    }
   ],
   "source": [
    "config = TrainingConfigurationManager()\n",
    "training_config = config.get_training_config()\n",
    "training = Training(training_config)\n",
    "training.splitting_data()\n",
    "training.training()\n",
    "training.evaluate()\n"
   ]
  },
  {
   "cell_type": "code",
   "execution_count": null,
   "metadata": {},
   "outputs": [],
   "source": []
  }
 ],
 "metadata": {
  "kernelspec": {
   "display_name": "Python 3",
   "language": "python",
   "name": "python3"
  },
  "language_info": {
   "codemirror_mode": {
    "name": "ipython",
    "version": 3
   },
   "file_extension": ".py",
   "mimetype": "text/x-python",
   "name": "python",
   "nbconvert_exporter": "python",
   "pygments_lexer": "ipython3",
   "version": "3.8.16"
  },
  "orig_nbformat": 4
 },
 "nbformat": 4,
 "nbformat_minor": 2
}
