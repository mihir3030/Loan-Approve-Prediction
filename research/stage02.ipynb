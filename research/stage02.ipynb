{
 "cells": [
  {
   "cell_type": "code",
   "execution_count": 1,
   "metadata": {},
   "outputs": [],
   "source": [
    "import os\n",
    "os.chdir(\"../\")"
   ]
  },
  {
   "cell_type": "code",
   "execution_count": 26,
   "metadata": {},
   "outputs": [],
   "source": [
    "from LoanApproval import CONFIG_FILE_PATH, PARAMS_FILE_PATH\n",
    "from LoanApproval.utils import read_yam_file, create_directories"
   ]
  },
  {
   "cell_type": "code",
   "execution_count": 27,
   "metadata": {},
   "outputs": [],
   "source": [
    "from pathlib import Path"
   ]
  },
  {
   "cell_type": "code",
   "execution_count": 28,
   "metadata": {},
   "outputs": [],
   "source": [
    "class DataPreprocessConfigurationManager:\n",
    "    def __init__(self, config_file_path=CONFIG_FILE_PATH):\n",
    "        self.config = read_yam_file(config_file_path)\n",
    "        self.dataset_load = os.path.join(self.config['data_ingestion']['root_dir'], self.config['data_ingestion']['local_files'])\n",
    "        create_directories([self.config['artifacts_root']])\n",
    "    \n",
    "    def data_preprocess_config(self):\n",
    "        config = self.config['data_preprocessing']\n",
    "        create_directories([config['root_dir']])\n",
    "\n",
    "        data_preprocess_config = {\"root_dir\": Path(config['root_dir']), \"dataset_load\": Path(self.dataset_load),\n",
    "                                 \"local_file\": Path(config['local_file'])}\n",
    "        return data_preprocess_config\n",
    "   "
   ]
  },
  {
   "cell_type": "code",
   "execution_count": 50,
   "metadata": {},
   "outputs": [],
   "source": [
    "import pandas as pd\n",
    "from imblearn.over_sampling import SMOTE\n",
    "from sklearn.preprocessing import StandardScaler"
   ]
  },
  {
   "cell_type": "code",
   "execution_count": 51,
   "metadata": {},
   "outputs": [],
   "source": [
    "class DataPreprocessing:\n",
    "    def __init__(self, config):\n",
    "        self.config = config\n",
    "\n",
    "    def handle_missing_value(self):\n",
    "        data_path = self.config['dataset_load']\n",
    "        self.df = pd.read_csv(data_path)\n",
    "        \n",
    "        # first drop Loan_ID column\n",
    "        self.df = self.df.drop('Loan_ID', axis=1)\n",
    "\n",
    "        # handling categorical missing value\n",
    "        df_categorical = self.df.select_dtypes('O')\n",
    "        self.df[df_categorical.columns] = self.df[df_categorical.columns].fillna(self.df[df_categorical.columns].mode().iloc[0])\n",
    "\n",
    "        # handling numerical missing value\n",
    "        self.df = self.df.fillna(self.df.median())\n",
    "\n",
    "    def cat_to_numeric(self):\n",
    "        # first convert out dependent variable to numeric\n",
    "        self.df['Loan_Status'] = self.df['Loan_Status'].replace(['Y', 'N'], [1, 0])\n",
    "\n",
    "        # now convert our independent features to numeric with OneHotEncoding\n",
    "        self.df = pd.get_dummies(self.df)\n",
    "\n",
    "    def handle_imbalanced_data(self):\n",
    "        # using oversampling SMOTE\n",
    "        sm = SMOTE()\n",
    "        self.df_over_sample, df_loan_new = sm.fit_resample(self.df.drop('Loan_Status', axis=1), self.df.Loan_Status)\n",
    "        self.df_over_sample['Loan_Status'] = df_loan_new\n",
    "        \n",
    "    def scaling_data(self):\n",
    "        scaler = StandardScaler()\n",
    "        self.df_scaled = pd.DataFrame(scaler.fit_transform(self.df_over_sample.drop(\"Loan_Status\", axis=1)), columns=self.df_over_sample.columns[:-1])\n",
    "        self.df_scaled['Loan_Status'] = self.df_over_sample['Loan_Status']\n",
    "\n",
    "         \n",
    "    def save_preprocess_data(self):\n",
    "        data_preprocess_root_dir = self.config['root_dir']\n",
    "        local_file_dir = self.config['local_file']\n",
    "\n",
    "        raw_local_file_path = os.path.join(data_preprocess_root_dir, local_file_dir)\n",
    "\n",
    "        self.df_scaled.to_csv(raw_local_file_path, index=False)"
   ]
  },
  {
   "cell_type": "code",
   "execution_count": 52,
   "metadata": {},
   "outputs": [
    {
     "name": "stdout",
     "output_type": "stream",
     "text": [
      "[2023-03-21 12:24:30,774: INFO: utils]: yaml file configs\\config.yaml load  successfully\n",
      "[2023-03-21 12:24:30,775: INFO: utils]: created directory at artifacts\n",
      "[2023-03-21 12:24:30,777: INFO: utils]: created directory at artifacts/data_preprocessing\n"
     ]
    },
    {
     "name": "stderr",
     "output_type": "stream",
     "text": [
      "C:\\Users\\MihirDholakia\\AppData\\Local\\Temp\\ipykernel_2376\\4218848019.py:17: FutureWarning: The default value of numeric_only in DataFrame.median is deprecated. In a future version, it will default to False. In addition, specifying 'numeric_only=None' is deprecated. Select only valid columns or specify the value of numeric_only to silence this warning.\n",
      "  self.df = self.df.fillna(self.df.median())\n"
     ]
    }
   ],
   "source": [
    "config = DataPreprocessConfigurationManager()\n",
    "data_preprocess_config = config.data_preprocess_config()\n",
    "data_preprocess = DataPreprocessing(config=data_preprocess_config)\n",
    "data_preprocess.handle_missing_value()\n",
    "data_preprocess.cat_to_numeric()\n",
    "data_preprocess.handle_imbalanced_data()\n",
    "data_preprocess.scaling_data()\n",
    "data_preprocess.save_preprocess_data()"
   ]
  },
  {
   "cell_type": "code",
   "execution_count": null,
   "metadata": {},
   "outputs": [],
   "source": []
  },
  {
   "cell_type": "code",
   "execution_count": null,
   "metadata": {},
   "outputs": [],
   "source": []
  }
 ],
 "metadata": {
  "kernelspec": {
   "display_name": "Python 3",
   "language": "python",
   "name": "python3"
  },
  "language_info": {
   "codemirror_mode": {
    "name": "ipython",
    "version": 3
   },
   "file_extension": ".py",
   "mimetype": "text/x-python",
   "name": "python",
   "nbconvert_exporter": "python",
   "pygments_lexer": "ipython3",
   "version": "3.8.16"
  },
  "orig_nbformat": 4
 },
 "nbformat": 4,
 "nbformat_minor": 2
}
