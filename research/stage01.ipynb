{
 "cells": [
  {
   "cell_type": "code",
   "execution_count": 1,
   "metadata": {},
   "outputs": [],
   "source": [
    "import os\n",
    "os.chdir(\"../\")"
   ]
  },
  {
   "cell_type": "code",
   "execution_count": 2,
   "metadata": {},
   "outputs": [],
   "source": [
    "from LoanApproval import CONFIG_FILE_PATH, PARAMS_FILE_PATH\n",
    "from LoanApproval.utils import read_yam_file, create_directories"
   ]
  },
  {
   "cell_type": "code",
   "execution_count": 59,
   "metadata": {},
   "outputs": [],
   "source": [
    "class ConfigurationManager:\n",
    "    def __init__(self, config_file_path=CONFIG_FILE_PATH):\n",
    "        self.config = read_yam_file(config_file_path)\n",
    "        create_directories([self.config['artifacts_root']])\n",
    "\n",
    "    def data_ingestion_config(self):\n",
    "        config = self.config['data_ingestion']\n",
    "        create_directories([config['root_dir']])\n",
    "\n",
    "        data_ingestion_config = {\"root_dir\": config['root_dir'], \"source_url\": config['source_url'], \n",
    "                                 \"local_files\": config['local_files'], 'url_path':config['url_path']}\n",
    "\n",
    "        return data_ingestion_config"
   ]
  },
  {
   "cell_type": "code",
   "execution_count": 65,
   "metadata": {},
   "outputs": [],
   "source": [
    "import pandas as pd"
   ]
  },
  {
   "cell_type": "code",
   "execution_count": 81,
   "metadata": {},
   "outputs": [],
   "source": [
    "class DataIngestion():\n",
    "    def __init__(self, config):\n",
    "        self.config = config\n",
    "\n",
    "    def download_data(self):\n",
    "        url = self.config['source_url']\n",
    "        path = self.config['url_path']+url.split('/')[-2]\n",
    "        self.df = pd.read_csv(path)\n",
    "        \n",
    "    def save_data(self):\n",
    "        data_ingestion_root_dir = self.config['root_dir']\n",
    "        local_file_dir = self.config['local_files']\n",
    "\n",
    "        raw_local_file_path = os.path.join(data_ingestion_root_dir, local_file_dir)\n",
    "\n",
    "        self.df.to_csv(raw_local_file_path, index=False)"
   ]
  },
  {
   "cell_type": "code",
   "execution_count": 82,
   "metadata": {},
   "outputs": [],
   "source": [
    "config = ConfigurationManager()\n",
    "data_ingestion_config = config.data_ingestion_config()\n",
    "data_ingestion = DataIngestion(config = data_ingestion_config)\n",
    "data_ingestion.download_data()\n",
    "data_ingestion.save_data()"
   ]
  },
  {
   "cell_type": "code",
   "execution_count": null,
   "metadata": {},
   "outputs": [],
   "source": []
  },
  {
   "cell_type": "code",
   "execution_count": null,
   "metadata": {},
   "outputs": [],
   "source": []
  }
 ],
 "metadata": {
  "kernelspec": {
   "display_name": "Python 3",
   "language": "python",
   "name": "python3"
  },
  "language_info": {
   "codemirror_mode": {
    "name": "ipython",
    "version": 3
   },
   "file_extension": ".py",
   "mimetype": "text/x-python",
   "name": "python",
   "nbconvert_exporter": "python",
   "pygments_lexer": "ipython3",
   "version": "3.8.16"
  },
  "orig_nbformat": 4
 },
 "nbformat": 4,
 "nbformat_minor": 2
}
